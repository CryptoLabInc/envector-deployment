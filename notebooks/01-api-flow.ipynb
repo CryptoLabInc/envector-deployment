{
 "cells": [
  {
   "cell_type": "markdown",
   "id": "47158ef8",
   "metadata": {},
   "source": [
    "# enVector API Flow Example\n",
    "\n",
    "This example shows the end-to-end workflow of **enVector** Python SDK (`es2`).\n",
    "\n",
    "In this notebook, we'll show the following works step-by-step:\n",
    "1. how vector encryption works\n",
    "2. how metadata encryption works\n",
    "3. how encrypted similarity search works\n",
    "4. how decryption works\n",
    "\n",
    "by running the APIs explicitly. \n",
    "This example ensures that the server sees only the encrypted data while the raw data remain unexposed.\n",
    "\n"
   ]
  },
  {
   "cell_type": "markdown",
   "id": "ef53447b",
   "metadata": {},
   "source": [
    "## Import SDK\n",
    "\n",
    "First, you should install and import the `es2` package to use enVector Python APIs.\n",
    "Before installing, make sure you have Python 3.12 and a virtual environment on your system. \n",
    "\n",
    "For more details, see [SDK installation](https://cryptolab.gitbook.io/envector/rU12grf1Q12UCpb0sxoh/get-started/installation/client-sdk) section in [enVector Documents](https://cryptolab.gitbook.io/envector/rU12grf1Q12UCpb0sxoh)."
   ]
  },
  {
   "cell_type": "code",
   "execution_count": null,
   "id": "53e66e3d",
   "metadata": {},
   "outputs": [],
   "source": [
    "import es2"
   ]
  },
  {
   "cell_type": "markdown",
   "id": "35857bff",
   "metadata": {},
   "source": [
    "### Connect to the enVector endpoint server\n",
    "\n",
    "First, we need to connect to the enVector endpoint server. The `init_connect()` is included in `init()`.\n",
    "\n",
    "For more details, see [Connection Configuration](https://cryptolab.gitbook.io/envector/rU12grf1Q12UCpb0sxoh/user-guide/initialize/connection-configuration) section in [enVector Documents](https://cryptolab.gitbook.io/envector/rU12grf1Q12UCpb0sxoh)."
   ]
  },
  {
   "cell_type": "code",
   "execution_count": null,
   "id": "76e9b889",
   "metadata": {},
   "outputs": [],
   "source": [
    "# Connect to the enVector end-point server with address and access token (if required)\n",
    "es2.init_connect(\n",
    "    address=\"localhost:50050\",\n",
    "    # access_token=\"...\",  # if needed\n",
    ")\n",
    "\n",
    "# Or you can call es2.init() for connection and configuration without key registration\n",
    "# es2.init(address=\"0.0.0.0:50050\", key_path=key_path, auto_key_setup=False)"
   ]
  },
  {
   "cell_type": "markdown",
   "id": "af95c8c1",
   "metadata": {},
   "source": [
    "## Key Control"
   ]
  },
  {
   "cell_type": "markdown",
   "id": "ddd89e72",
   "metadata": {},
   "source": [
    "### Generate FHE Keys\n",
    "\n",
    "To use enVector, we should generate a key, which is the basis of the ciphertext for fully homomorphic encryption (FHE).\n",
    "\n",
    "By key generation, all keys will be saved to `key_path` identified by `key_id` and generated as:\n",
    "- `SecKey.bin` for the Secret key,\n",
    "- `EncKey.bin` for the Encryption key,\n",
    "- `EvalKey.bin` for the Evaluation key.\n",
    "\n",
    "In the case that metadata is sensitive, you can set `metadata_encryption` as `True` to generate the metadata encryption key:\n",
    "- `MetadataKey.bin` for the Metadata Encryption key.\n",
    "\n",
    "`eval_mode` can be set as `rmp` (the default) or `mm` (advanced). `rmp` mode is the default key setting, and `mm` provides better performance for large-scale datasets, but it currently doesn't support the query encryption.\n",
    "\n",
    "For a more detailed description, see [Key Generation](https://cryptolab.gitbook.io/envector/rU12grf1Q12UCpb0sxoh/user-guide/advanced-user-guide/key-generation) in [enVector Documents](https://cryptolab.gitbook.io/envector/rU12grf1Q12UCpb0sxoh)."
   ]
  },
  {
   "cell_type": "code",
   "execution_count": null,
   "id": "dfb2daf1",
   "metadata": {},
   "outputs": [],
   "source": [
    "from es2.crypto import KeyGenerator\n",
    "\n",
    "# Generate keys locally under key_path = keys/crypto-qs\n",
    "keygen = KeyGenerator(\n",
    "    key_path=\"keys/crypto-qs\", \n",
    "    eval_mode=\"rmp\",\n",
    "    metadata_encryption=True,\n",
    ")\n",
    "keygen.generate_keys()"
   ]
  },
  {
   "cell_type": "markdown",
   "id": "ab309f55",
   "metadata": {},
   "source": [
    "### Index Configuration\n",
    "Now we can configure the index config with the key ID. \n",
    "The index config includes query encryption, index encryption, metadata encryption, and so on.\n",
    "\n",
    "For more details, see [Index Config](https://cryptolab.gitbook.io/envector/rU12grf1Q12UCpb0sxoh/user-guide/initialize/index-configuration/4.-indexconfig) in [enVector Documents](https://cryptolab.gitbook.io/envector/rU12grf1Q12UCpb0sxoh)."
   ]
  },
  {
   "cell_type": "code",
   "execution_count": null,
   "id": "b38faa99",
   "metadata": {},
   "outputs": [],
   "source": [
    "# Configure index and key config\n",
    "es2.init_index_config(\n",
    "    key_path=\"keys\",\n",
    "    key_id=\"crypto-qs\",\n",
    "    query_encryption=\"plain\",\n",
    "    auto_key_setup=False,\n",
    "    metadata_encryption=True,\n",
    ")"
   ]
  },
  {
   "cell_type": "markdown",
   "id": "1c71ff7c",
   "metadata": {},
   "source": [
    "### Register Key\n",
    "\n",
    "We should register and load the key with the enVector server. The server cannot encrypt or decrypt, so we send the evaluation key only for secure operations.\n",
    "\n",
    "For more details, see [Implementation Steps](https://cryptolab.gitbook.io/envector/rU12grf1Q12UCpb0sxoh/user-guide/connection/key-management#implementation-steps) in [enVector Documents](https://cryptolab.gitbook.io/envector/rU12grf1Q12UCpb0sxoh)."
   ]
  },
  {
   "cell_type": "code",
   "execution_count": null,
   "id": "bb143519",
   "metadata": {},
   "outputs": [],
   "source": [
    "# Register and load the key on the server\n",
    "es2.register_key(key_id=\"crypto-qs\")\n",
    "es2.load_key(key_id=\"crypto-qs\")"
   ]
  },
  {
   "cell_type": "markdown",
   "id": "b475797d",
   "metadata": {},
   "source": [
    "If we want to know specific information about the registered key, we can use the `get_key_list()` and `get_key_info()` methods."
   ]
  },
  {
   "cell_type": "code",
   "execution_count": null,
   "id": "89a40884",
   "metadata": {},
   "outputs": [],
   "source": [
    "es2.get_key_list()"
   ]
  },
  {
   "cell_type": "code",
   "execution_count": null,
   "id": "5cf8f9f9",
   "metadata": {},
   "outputs": [],
   "source": [
    "es2.get_key_info(\"crypto-qs\")"
   ]
  },
  {
   "cell_type": "markdown",
   "id": "c9619bc8",
   "metadata": {},
   "source": [
    "## Prepare Index"
   ]
  },
  {
   "cell_type": "markdown",
   "id": "d949835a",
   "metadata": {},
   "source": [
    "### Create Index\n",
    "\n",
    "Before inserting data, we first create an `Index` with the dimension of the vectors you want to use.\n",
    "\n",
    "For more details, see [Creation](https://cryptolab.gitbook.io/envector/rU12grf1Q12UCpb0sxoh/user-guide/encrypted-index/creation) in [enVector Documents](https://cryptolab.gitbook.io/envector/rU12grf1Q12UCpb0sxoh)."
   ]
  },
  {
   "cell_type": "code",
   "execution_count": null,
   "id": "6cd46560",
   "metadata": {},
   "outputs": [],
   "source": [
    "# Create an index bound to this key config\n",
    "index = es2.create_index(\"crypto_qs_index\", dim=512)"
   ]
  },
  {
   "cell_type": "code",
   "execution_count": null,
   "id": "a04a2b5f",
   "metadata": {},
   "outputs": [],
   "source": [
    "index.index_config"
   ]
  },
  {
   "cell_type": "markdown",
   "id": "b1d3ff28",
   "metadata": {},
   "source": [
    "### Prepare data\n",
    "\n",
    "Here, we prepare sample data for inserting into the enVector server. Note that the vectors must be L2-normalized before insertion."
   ]
  },
  {
   "cell_type": "code",
   "execution_count": null,
   "id": "07780518",
   "metadata": {},
   "outputs": [],
   "source": [
    "import numpy as np\n",
    "\n",
    "# Generate sample normalized vectors and metadata\n",
    "vecs = np.random.rand(10, 512)\n",
    "vecs = vecs / np.linalg.norm(vecs, axis=1, keepdims=True)\n",
    "metadata = [f\"Item {i+1}\" for i in range(10)]"
   ]
  },
  {
   "cell_type": "markdown",
   "id": "6a5136ba",
   "metadata": {},
   "source": [
    "### Encrypt Items\n",
    "\n",
    "To securely store or search vectors in the enVector system, we need to encrypt them using the generated encryption keys.\n",
    "\n",
    "The `Cipher` class provides a unified interface for both encryption and decryption of vectors and scores. You can provide the encryption and decryption key paths when initializing, or you can specify them directly when calling the `encrypt` or `decrypt` methods. This flexibility allows you to manage keys according to your workflow and security requirements.\n",
    "\n",
    "For example, you can initialize a `Cipher` with both key paths for convenience, or you can create a `Cipher` with only the dimension and provide the key paths at each operation. This makes it easy to use the same `Cipher` instance in different contexts or with different keys as needed.\n",
    "\n",
    "In the case of metadata encryption, you can use `encrypt_metadata` with the generated metadata encryption key `MetadataKey.bin`.\n",
    "\n",
    "For more details, see [Encryption](https://cryptolab.gitbook.io/envector/rU12grf1Q12UCpb0sxoh/user-guide/advanced-user-guide/cipher/encryption) in [enVector Documents](https://cryptolab.gitbook.io/envector/rU12grf1Q12UCpb0sxoh).\n",
    "\n"
   ]
  },
  {
   "cell_type": "code",
   "execution_count": null,
   "id": "a1df6cfd",
   "metadata": {},
   "outputs": [],
   "source": [
    "from es2.crypto import Cipher\n",
    "from es2.utils.aes import encrypt_metadata\n",
    "\n",
    "enc_key_path=\"./keys/crypto-qs/EncKey.bin\"\n",
    "metadata_key_path=\"./keys/crypto-qs/MetadataKey.bin\"\n",
    "\n",
    "cipher = Cipher(dim=512, enc_key_path=enc_key_path)\n",
    "\n",
    "# Explicitly encrypt each item (vector) before sending\n",
    "enc_vectors = [cipher.encrypt(v, \"item\") for v in vecs]\n",
    "print(\"Encrypted Vectors\\n\", enc_vectors[0])\n",
    "\n",
    "# Explicitly encrypt metadata\n",
    "enc_metadata = [encrypt_metadata(item, key_path=metadata_key_path) for item in metadata]\n",
    "print(\"Encrypted Metadata\\n\", enc_metadata[0])"
   ]
  },
  {
   "cell_type": "markdown",
   "id": "f13c40bc",
   "metadata": {},
   "source": [
    "### Insert the Encrypted Vectors\n",
    "\n",
    "After encrypting all vectors, we're ready to insert the encrypted vectors into the created index on the enVector server.\n",
    "This sends a list of encrypted vectors and the corresponding encrypted metadata to the enVector server and stores them in the specified index.\n",
    "\n",
    "For more details, see [Insert](https://cryptolab.gitbook.io/envector/rU12grf1Q12UCpb0sxoh/user-guide/insert) in [enVector Documents](https://cryptolab.gitbook.io/envector/rU12grf1Q12UCpb0sxoh)."
   ]
  },
  {
   "cell_type": "code",
   "execution_count": null,
   "id": "5e7a8c1e",
   "metadata": {},
   "outputs": [],
   "source": [
    "# Insert encrypted items with metadata\n",
    "index.insert(enc_vectors, enc_metadata)"
   ]
  },
  {
   "cell_type": "markdown",
   "id": "cb2cd9a4",
   "metadata": {},
   "source": [
    "## Encrypted Similarity Search\n",
    "\n",
    "### Prepare query\n",
    "\n",
    "First, prepare a plaintext query for encrypted similarity search.\n",
    "\n",
    "If you want to encrypt the query for more secure similarity search, see `03-simple-rag.ipynb` for more details."
   ]
  },
  {
   "cell_type": "code",
   "execution_count": null,
   "id": "383abee9",
   "metadata": {},
   "outputs": [],
   "source": [
    "query = vecs[0]"
   ]
  },
  {
   "cell_type": "markdown",
   "id": "c3e1add1",
   "metadata": {},
   "source": [
    "### Encrypted search on the index\n",
    "\n",
    "Now we're ready to perform an encrypted similarity search. \n",
    "Once the encrypted vector index and query vectors are ready, we can perform the encrypted search on encrypted data without decrypting it.\n",
    "In this example, we'll show how the `Index.search` works, running the underlying APIs step-by-step explicitly.\n",
    "The `scoring` API performs the encrypted similarity search, resulting in ciphertexts of similarity scores. \n",
    "\n",
    "For more details, see [Scoring](https://cryptolab.gitbook.io/envector/rU12grf1Q12UCpb0sxoh/user-guide/search/scoring) in the [enVector Documents](https://cryptolab.gitbook.io/envector/rU12grf1Q12UCpb0sxoh)."
   ]
  },
  {
   "cell_type": "code",
   "execution_count": null,
   "id": "56e76a51",
   "metadata": {},
   "outputs": [],
   "source": [
    "search_index = es2.Index(\"crypto_qs_index\")\n",
    "\n",
    "# Server performs encrypted similarity scoring; response is encrypted\n",
    "encrypted_scores = search_index.scoring(query)[0]\n",
    "encrypted_scores"
   ]
  },
  {
   "cell_type": "markdown",
   "id": "dd2a91a6",
   "metadata": {},
   "source": [
    "### Decrypt search results\n",
    "\n",
    "The result of the encrypted search is ciphertext, which means that the server could not see the original data. To see the result, we need to decrypt the outputs with the client's secret key. The encrypted search result includes similarity scores for each vector, which become available after decryption. \n",
    "\n",
    "For more details, see the [Decrypting Scores](https://cryptolab.gitbook.io/envector/rU12grf1Q12UCpb0sxoh/user-guide/search/decrypting-scores) in the [enVector Documents](https://cryptolab.gitbook.io/envector/rU12grf1Q12UCpb0sxoh)."
   ]
  },
  {
   "cell_type": "code",
   "execution_count": null,
   "id": "bcc2e941",
   "metadata": {},
   "outputs": [],
   "source": [
    "scores = cipher.decrypt_score(encrypted_scores, sec_key_path=\"keys/crypto-qs/SecKey.bin\")\n",
    "scores"
   ]
  },
  {
   "cell_type": "markdown",
   "id": "da1357ff",
   "metadata": {},
   "source": [
    "### Extract Top-k Relevance\n",
    "\n",
    "To extract relevant vectors, we first identify the top-k indices from the decrypted result vectors. These indices correspond to the most similar vectors in the encrypted index.\n",
    "\n",
    "For more details, see the [Retrieving Top-k Metadata](https://cryptolab.gitbook.io/envector/rU12grf1Q12UCpb0sxoh/user-guide/search/retrieving-top-k-metadata) in the [enVector Documents](https://cryptolab.gitbook.io/envector/rU12grf1Q12UCpb0sxoh)."
   ]
  },
  {
   "cell_type": "code",
   "execution_count": null,
   "id": "086f9c43",
   "metadata": {},
   "outputs": [],
   "source": [
    "topk = search_index.get_topk_metadata_results(scores, top_k=3, output_fields=[\"metadata\"])\n",
    "print(*topk, sep=\"\\n\")"
   ]
  },
  {
   "cell_type": "markdown",
   "id": "e9fa17a0",
   "metadata": {},
   "source": [
    "### Decrypt Metadata\n",
    "\n",
    "The resulting metadata is encrypted, as we inserted the encrypted ones for security.\n",
    "Therefore, we decrypt the retrieved metadata to see the original data."
   ]
  },
  {
   "cell_type": "code",
   "execution_count": null,
   "id": "136e7c38",
   "metadata": {},
   "outputs": [],
   "source": [
    "from es2.utils.aes import decrypt_metadata\n",
    "\n",
    "retrievals = [decrypt_metadata(item[\"metadata\"], key_path=metadata_key_path) for item in topk]\n",
    "print(*retrievals, sep=\"\\n\")"
   ]
  },
  {
   "cell_type": "markdown",
   "id": "9fb95b93",
   "metadata": {},
   "source": [
    "### Clean up\n",
    "\n",
    "We can delete the created index and the registered key when they are no longer needed."
   ]
  },
  {
   "cell_type": "code",
   "execution_count": null,
   "id": "68688309",
   "metadata": {},
   "outputs": [],
   "source": [
    "es2.drop_index(\"crypto_qs_index\")"
   ]
  },
  {
   "cell_type": "code",
   "execution_count": null,
   "id": "ae1a8dc6",
   "metadata": {},
   "outputs": [],
   "source": [
    "es2.delete_key(\"crypto-qs\")"
   ]
  },
  {
   "cell_type": "markdown",
   "id": "984eb5f4",
   "metadata": {},
   "source": [
    "For more detailed API reference, see [enVector Documents](https://cryptolab.gitbook.io/envector/rU12grf1Q12UCpb0sxoh)."
   ]
  }
 ],
 "metadata": {
  "kernelspec": {
   "display_name": "es2-sdk",
   "language": "python",
   "name": "python3"
  },
  "language_info": {
   "codemirror_mode": {
    "name": "ipython",
    "version": 3
   },
   "file_extension": ".py",
   "mimetype": "text/x-python",
   "name": "python",
   "nbconvert_exporter": "python",
   "pygments_lexer": "ipython3",
   "version": "3.12.11"
  }
 },
 "nbformat": 4,
 "nbformat_minor": 5
}
