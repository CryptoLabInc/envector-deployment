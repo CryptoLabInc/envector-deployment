{
 "cells": [
  {
   "cell_type": "markdown",
   "id": "47158ef8",
   "metadata": {},
   "source": [
    "# ES2 API Flow Example\n",
    "\n",
    "This example shows end-to-end process workflow of ES2 Self-Hosted Python SDK."
   ]
  },
  {
   "cell_type": "markdown",
   "id": "ef53447b",
   "metadata": {},
   "source": [
    "## Import ES2\n",
    "\n",
    "At very first time, you should install and import `es2` package to use python APIs. Before installing, make sure you have Python3.12 and virtual environment on your system. For more details, see `SDK installation` section in `Get Started`."
   ]
  },
  {
   "cell_type": "code",
   "execution_count": null,
   "id": "a3aadbdc",
   "metadata": {},
   "outputs": [],
   "source": [
    "# !pip install es2"
   ]
  },
  {
   "cell_type": "code",
   "execution_count": null,
   "id": "e5d5bfc6",
   "metadata": {},
   "outputs": [],
   "source": [
    "import es2\n",
    "from es2.crypto import Cipher, KeyGenerator"
   ]
  },
  {
   "cell_type": "markdown",
   "id": "ddd89e72",
   "metadata": {},
   "source": [
    "## Key Control\n",
    "\n",
    "### 1. Generate FHE Keys\n",
    "\n",
    "To use APIs, we should generate Key, which is base of ciphertext of fully homomorphic encryption (FHE)."
   ]
  },
  {
   "cell_type": "code",
   "execution_count": null,
   "id": "dd8cc04f",
   "metadata": {},
   "outputs": [],
   "source": [
    "key_path = \"./keys\"\n",
    "# Key ID will be used to register key to ES2 server\n",
    "# Key ID can be any string of length less than 20 characters\n",
    "key_id = \"test_key_id\"\n",
    "key_dir = f\"{key_path}/{key_id}\""
   ]
  },
  {
   "cell_type": "markdown",
   "id": "8b0028a8",
   "metadata": {},
   "source": [
    "To generate keys, we need `KeyGenerator` instance. For the detailed usage, see `KeyGenerator` section in SDK API Reference. Now, we can generate keys! All keys will be saved to `key_path`. Secret Key will be generated and saved to `FRSecKey.bin` in `key_path`. Encryption and Evaluation key will be generated and saved to `EncKey.bin` and `EvalKey.bin`."
   ]
  },
  {
   "cell_type": "code",
   "execution_count": null,
   "id": "c1e85302",
   "metadata": {},
   "outputs": [],
   "source": [
    "# Generate keys\n",
    "keygen = KeyGenerator(key_dir)\n",
    "\n",
    "try:\n",
    "    keygen.generate_keys()\n",
    "except ValueError as e:\n",
    "    print(f\"Key generation failed: {e}\")"
   ]
  },
  {
   "cell_type": "markdown",
   "id": "6a5136ba",
   "metadata": {},
   "source": [
    "We have generated key now, so let's generate `Cipher` with this key!\n",
    "\n",
    "\n",
    "The `Cipher` class in ES2 provides a unified interface for both encryption and decryption of vectors and scores. You can provide the encryption and decryption key paths when initializing the `Cipher`, or you can specify them directly when calling the `encrypt` or `decrypt` methods. This flexibility allows you to manage keys according to your workflow and security requirements.\n",
    "\n",
    "\n",
    "For example, you can initialize a `Cipher` with both key paths for convenience, or you can create a `Cipher` with only the dimension and provide the key paths at each operation. This makes it easy to use the same `Cipher` instance in different contexts or with different keys as needed."
   ]
  },
  {
   "cell_type": "code",
   "execution_count": null,
   "id": "2717cc76",
   "metadata": {},
   "outputs": [],
   "source": [
    "dim = 512\n",
    "\n",
    "cipher = Cipher(dim=dim, enc_key_path=f\"{key_dir}/EncKey.bin\")"
   ]
  },
  {
   "cell_type": "markdown",
   "id": "35857bff",
   "metadata": {},
   "source": [
    "### 2. Connect to ES2 end-point server\n",
    "\n",
    "First, we need to connect to ES2 end-point server."
   ]
  },
  {
   "cell_type": "code",
   "execution_count": null,
   "id": "d845bf67",
   "metadata": {},
   "outputs": [],
   "source": [
    "# Connect to the ES2 end-point server(default [ip:port] is [0.0.0.0:50050])\n",
    "es2.init(address=\"0.0.0.0:50050\", key_path=key_path, auto_key_setup=False)\n",
    "# Check if the connection was successful\n",
    "if es2.is_connected():\n",
    "    print(\"Connected to ES2.\")\n",
    "    \n",
    "else:\n",
    "    print(\"Failed to connect to ES2.\")"
   ]
  },
  {
   "cell_type": "markdown",
   "id": "29a3b9d8",
   "metadata": {},
   "source": [
    "Now, we should register key to ES2 server.\n",
    "Server cannot encrypt or decrypt, so we register evaluation key only."
   ]
  },
  {
   "cell_type": "code",
   "execution_count": null,
   "id": "ade6e490",
   "metadata": {},
   "outputs": [],
   "source": [
    "# Register eval key to ES2-MSA\n",
    "es2.register_key(key_id)"
   ]
  },
  {
   "cell_type": "markdown",
   "id": "b475797d",
   "metadata": {},
   "source": [
    "If we wanna know specific information about the registered key, we can use `get_key_info` method."
   ]
  },
  {
   "cell_type": "code",
   "execution_count": null,
   "id": "a194f3e5",
   "metadata": {},
   "outputs": [],
   "source": [
    "es2.get_key_info(key_id)"
   ]
  },
  {
   "cell_type": "markdown",
   "id": "fe3cf1df",
   "metadata": {},
   "source": [
    "## 3. Load Data into ES2\n",
    "\n",
    "### Create an Index\n",
    "\n",
    "For encrypted similarity search, we first prepare a vector index, called `Index`, to store encrypted vectors and their metadata in the ES2 system. For the detailed usage, see the `Index` section in the Python SDK API Reference."
   ]
  },
  {
   "cell_type": "code",
   "execution_count": null,
   "id": "68e06a03",
   "metadata": {},
   "outputs": [],
   "source": [
    "index_name = \"test_index\"\n",
    "index = es2.create_index(index_name, dim)"
   ]
  },
  {
   "cell_type": "code",
   "execution_count": null,
   "id": "b6fed872",
   "metadata": {},
   "outputs": [],
   "source": [
    "# Check if the index creation was successful\n",
    "index_lst = es2.get_index_list()\n",
    "print(index_lst)"
   ]
  },
  {
   "cell_type": "markdown",
   "id": "06c9e0d6",
   "metadata": {},
   "source": [
    "### 4. Run example with sample data\n",
    "\n",
    "And also, we need test data.\n",
    "For now, let's use some random data.\n",
    "Now let's test with randomly generated sample data!\n",
    "First, we need to create a new index to save encryptred vectors."
   ]
  },
  {
   "cell_type": "code",
   "execution_count": null,
   "id": "052d5b25",
   "metadata": {},
   "outputs": [],
   "source": [
    "import numpy as np\n",
    "\n",
    "# Define a function to generate random vectors\n",
    "def generate_random_vectors(dim):\n",
    "    if dim <= 16 or dim > 4096:\n",
    "        raise ValueError(f\"Invalid dimension: {dim}.\")\n",
    "    \n",
    "    vec = np.random.uniform(-1.0, 1.0, dim)\n",
    "    norm = np.linalg.norm(vec)\n",
    "\n",
    "    if norm > 0:\n",
    "        vec = vec / norm\n",
    "\n",
    "    return vec\n",
    "\n",
    "num_data = 10\n",
    "\n",
    "db_vectors = [\n",
    "    generate_random_vectors(dim) for _ in range(num_data)\n",
    "]\n",
    "\n",
    "db_metadata = [f\"Item {i+1}\" for i in range(num_data)]"
   ]
  },
  {
   "cell_type": "markdown",
   "id": "e04f572b",
   "metadata": {},
   "source": [
    "### Encrypt Vectors\n",
    "\n",
    "To securely store or search vectors in the ES2 system, we need to encrypt them using generated encryption keys. See the `Cipher` in the Python SDK API Reference."
   ]
  },
  {
   "cell_type": "code",
   "execution_count": null,
   "id": "ec12d5b3",
   "metadata": {},
   "outputs": [],
   "source": [
    "# Encrypt vectors to be indexed\n",
    "db_ctxt = []\n",
    "db_metadata = []\n",
    "for i, vec in enumerate(db_vectors):\n",
    "    db_ctxt.append(cipher.encrypt(vec, \"item\"))\n",
    "    db_metadata.append(f\"Item {i+1}\")"
   ]
  },
  {
   "cell_type": "markdown",
   "id": "d832b521",
   "metadata": {},
   "source": [
    "### Insert vectors into the index\n",
    "\n",
    "Let's insert the encrypted vectors into the created index into the ES2 server. It sends a list of encrypted vectors and their metadata to the ES2 server and store them into a specified index."
   ]
  },
  {
   "cell_type": "code",
   "execution_count": null,
   "id": "050d4020",
   "metadata": {},
   "outputs": [],
   "source": [
    "index.insert(db_ctxt, metadata=db_metadata)"
   ]
  },
  {
   "cell_type": "markdown",
   "id": "cb2cd9a4",
   "metadata": {},
   "source": [
    "## Encrypted Similarity Search\n",
    "\n",
    "### Prepare query\n",
    "\n",
    "First, prepare query for encrypted search."
   ]
  },
  {
   "cell_type": "code",
   "execution_count": null,
   "id": "4d912e22",
   "metadata": {},
   "outputs": [],
   "source": [
    "query_index = np.random.randint(0, num_data)\n",
    "# query argument is a list of query vectors\n",
    "query_vector = db_vectors[query_index]\n",
    "print(\"Answer query index:\", query_index + 1)"
   ]
  },
  {
   "cell_type": "markdown",
   "id": "c3e1add1",
   "metadata": {},
   "source": [
    "### Encrypted search on the index\n",
    "\n",
    "Let's perform encrypted similarity search. Once all the encrypted vector index and query vectors are ready, we can now perform a similarity search on encrypted data without decrypting the data. For more details, see the `Index.search` in the API Reference."
   ]
  },
  {
   "cell_type": "code",
   "execution_count": null,
   "id": "f3162627",
   "metadata": {},
   "outputs": [],
   "source": [
    "search_index = es2.Index(index_name)\n",
    "result_ctxt = search_index.scoring(query_vector)[0]"
   ]
  },
  {
   "cell_type": "markdown",
   "id": "dd2a91a6",
   "metadata": {},
   "source": [
    "### Decrypt search results\n",
    "\n",
    "The result of the encrypted search (`result_ctxt`) is the ciphertext, which means that the server could have not seen the original values. To see the result, it requires to decrypt the results with the user's secret key. The encrypted search results include score vectors of each text embedding vectors, as the results of the encrypted similarity search, so that it provides the score vectors after decryption. For more details, see the `Cipher` in the Python SDK API Reference."
   ]
  },
  {
   "cell_type": "code",
   "execution_count": null,
   "id": "f3d06b11",
   "metadata": {},
   "outputs": [],
   "source": [
    "result = search_index.decrypt_score(result_ctxt, sec_key_path=key_dir + \"/SecKey.bin\")\n",
    "result"
   ]
  },
  {
   "cell_type": "markdown",
   "id": "da1357ff",
   "metadata": {},
   "source": [
    "### Extract Top-k Relevance\n",
    "\n",
    "To extract relevant vectors, we first identify the top-k indices from the decrypted result vectors. These indices correspond to the most similar vectors in the encrypted database."
   ]
  },
  {
   "cell_type": "code",
   "execution_count": null,
   "id": "18f62c2e",
   "metadata": {},
   "outputs": [],
   "source": [
    "output_metadata = search_index.get_topk_metadata_results(result, top_k=1, output_fields=[\"metadata\"])\n",
    "output_metadata"
   ]
  },
  {
   "cell_type": "code",
   "execution_count": null,
   "id": "73427ded",
   "metadata": {},
   "outputs": [],
   "source": [
    "es2.drop_index(index_name)"
   ]
  },
  {
   "cell_type": "code",
   "execution_count": null,
   "id": "6dd1de6b",
   "metadata": {},
   "outputs": [],
   "source": [
    "es2.release_key(key_id)"
   ]
  },
  {
   "cell_type": "code",
   "execution_count": null,
   "id": "34fc7139",
   "metadata": {},
   "outputs": [],
   "source": []
  }
 ],
 "metadata": {
  "kernelspec": {
   "display_name": "3.12.11",
   "language": "python",
   "name": "python3"
  },
  "language_info": {
   "codemirror_mode": {
    "name": "ipython",
    "version": 3
   },
   "file_extension": ".py",
   "mimetype": "text/x-python",
   "name": "python",
   "nbconvert_exporter": "python",
   "pygments_lexer": "ipython3",
   "version": "3.12.11"
  }
 },
 "nbformat": 4,
 "nbformat_minor": 5
}
