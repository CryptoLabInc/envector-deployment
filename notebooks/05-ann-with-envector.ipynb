{
 "cells": [
  {
   "cell_type": "markdown",
   "id": "bf0d716d",
   "metadata": {
    "vscode": {
     "languageId": "plaintext"
    }
   },
   "source": [
    "# ANN with enVector\n",
    "\n",
    "This example demonstrates how ANN (Approximate Nearest Neighbor) can be performed with enVector, focusing on IVF-FLAT.\n",
    "\n",
    "IVF-FLAT is one of the most popular indexing algorithms to enhance search efficiency.\n",
    "The enVector supports the IVF (Inverted File) with FLAT algorithm for encrypted similarity search.\n",
    "Note that the ciphertexts are given to the enVector server; no indexing algorithms are available to find the centroids for ANN on the server side in general.\n",
    "Therefore, enVector SDK creates IVF clusters on the client side before encryption, enabling it to find the nearest clusters before insertion and search.\n",
    "This step ensures there is no information exposure when finding the nearest neighbors."
   ]
  },
  {
   "cell_type": "markdown",
   "id": "64054ef1",
   "metadata": {},
   "source": [
    "## Import SDK\n",
    "\n",
    "Before we start, we should install and import the `es2` package to use enVector Python APIs. "
   ]
  },
  {
   "cell_type": "code",
   "execution_count": null,
   "id": "c50db45b",
   "metadata": {},
   "outputs": [],
   "source": [
    "import es2"
   ]
  },
  {
   "cell_type": "markdown",
   "id": "0ef5d8b7",
   "metadata": {},
   "source": [
    "## Prepare Dataset\n",
    "\n",
    "First, we generate a large sample dataset for test purposes."
   ]
  },
  {
   "cell_type": "code",
   "execution_count": null,
   "id": "8de988db",
   "metadata": {},
   "outputs": [],
   "source": [
    "import numpy as np\n",
    "\n",
    "num_vectors = 1_000_000\n",
    "dim = 1536\n",
    "\n",
    "vectors = np.random.rand(num_vectors, dim).astype(np.float32)\n",
    "vectors = vectors / np.linalg.norm(vectors, axis=1, keepdims=True)"
   ]
  },
  {
   "cell_type": "markdown",
   "id": "a8e266e6",
   "metadata": {},
   "source": [
    "### Create Centroids\n",
    "\n",
    "To perform IVF-FLAT, we train the centroids with the given dataset by running k-means clustering.\n",
    "The `n_lists` parameter indicates the number of clusters in an IVF index, determining how many centroids the dataset is partitioned into."
   ]
  },
  {
   "cell_type": "code",
   "execution_count": null,
   "id": "7237d67b",
   "metadata": {},
   "outputs": [],
   "source": [
    "from sklearn.cluster import KMeans \n",
    "# for GPU acceleration, we can use cuml.cluster.KMeans\n",
    "\n",
    "n_lists = 500\n",
    "\n",
    "kmeans = KMeans(n_clusters=n_lists, n_init=1)\n",
    "kmeans.fit(vectors)\n",
    "centroids = kmeans.cluster_centers_.copy()"
   ]
  },
  {
   "cell_type": "markdown",
   "id": "d01387ac",
   "metadata": {},
   "source": [
    "## Vector Search\n",
    "\n",
    "### 1. Initialize\n",
    "\n",
    "To use the enVector service, initialization is required to connect to the server and register keys."
   ]
  },
  {
   "cell_type": "code",
   "execution_count": null,
   "id": "c91b155c",
   "metadata": {},
   "outputs": [],
   "source": [
    "es2.init(\n",
    "    address=\"localhost:50050\",\n",
    "    access_token=\"...\",\n",
    "    key_path=\"./keys\",\n",
    "    key_id=\"example_key\",\n",
    "    auto_key_setup=True,\n",
    ")"
   ]
  },
  {
   "cell_type": "markdown",
   "id": "820bf64d",
   "metadata": {},
   "source": [
    "### 2. Create Index\n",
    "\n",
    "For ANN, we create an index with specified indexing parameters.\n",
    "For IVF-FLAT, `n_list` and `n_probe` should be specified, and `centroids` registered on the client side."
   ]
  },
  {
   "cell_type": "code",
   "execution_count": null,
   "id": "434caf4e",
   "metadata": {},
   "outputs": [],
   "source": [
    "# Configure index parameters\n",
    "index_params = {\n",
    "    \"index_type\": \"IVF_FLAT\",\n",
    "    \"nlist\": n_lists,\n",
    "    \"default_nprobe\": 1,\n",
    "    \"centroids\": centroids.tolist()\n",
    "}\n",
    "\n",
    "# Create index\n",
    "index = es2.create_index(\n",
    "    \"ivf_flat_index\", \n",
    "    dim=dim,\n",
    "    index_params=index_params\n",
    ")"
   ]
  },
  {
   "cell_type": "markdown",
   "id": "346fef6f",
   "metadata": {},
   "source": [
    "### 3. Insert Data\n",
    "\n",
    "To populate the index, we need to insert data into the created index. \n",
    "Note that the vectors to be inserted are assigned to the nearest cluster by the client-side calculations during the insertion step."
   ]
  },
  {
   "cell_type": "code",
   "execution_count": null,
   "id": "ffaea449",
   "metadata": {},
   "outputs": [],
   "source": [
    "metadata = [f\"Metadata-{i+1}\" for i in range(num_vectors)]\n",
    "index.insert(vectors, metadata)"
   ]
  },
  {
   "cell_type": "markdown",
   "id": "eff4ca30",
   "metadata": {},
   "source": [
    "### 4. Encrypted Similarity Search\n",
    "\n",
    "To perform a similarity search with ANN, we send a query vector to find the most similar vectors in the index.\n",
    "To perform IVF-FLAT, we set search parameters (`search_params`), including `nprobe`, which indicates how many nearest clusters to search.\n",
    "`nprobe` can differ from the `default_nprobe` specified when creating the index.\n",
    "Note that the clusters are determined for the query vector by client-side calculations before sending the query to the server."
   ]
  },
  {
   "cell_type": "code",
   "execution_count": null,
   "id": "e748e5b4",
   "metadata": {},
   "outputs": [],
   "source": [
    "query = vectors[0]\n",
    "\n",
    "results = index.search(\n",
    "    query, \n",
    "    top_k=3, \n",
    "    output_fields=[\"metadata\"],\n",
    "    search_params={\"nprobe\": 16}\n",
    ")\n",
    "print(results)"
   ]
  },
  {
   "cell_type": "markdown",
   "id": "34a66d75",
   "metadata": {},
   "source": [
    "### Clean Up\n",
    "\n",
    "We can delete the created index and the registered key when they are no longer needed."
   ]
  },
  {
   "cell_type": "code",
   "execution_count": null,
   "id": "1b295546",
   "metadata": {},
   "outputs": [],
   "source": [
    "es2.drop_index(\"ivf_flat_index\")"
   ]
  },
  {
   "cell_type": "code",
   "execution_count": null,
   "id": "06e28d62",
   "metadata": {},
   "outputs": [],
   "source": [
    "es2.delete_key(\"example_key\")"
   ]
  }
 ],
 "metadata": {
  "kernelspec": {
   "display_name": "es2-sdk",
   "language": "python",
   "name": "python3"
  },
  "language_info": {
   "codemirror_mode": {
    "name": "ipython",
    "version": 3
   },
   "file_extension": ".py",
   "mimetype": "text/x-python",
   "name": "python",
   "nbconvert_exporter": "python",
   "pygments_lexer": "ipython3",
   "version": "3.12.11"
  }
 },
 "nbformat": 4,
 "nbformat_minor": 5
}
