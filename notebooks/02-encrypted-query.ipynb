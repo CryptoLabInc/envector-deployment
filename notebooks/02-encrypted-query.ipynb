{
 "cells": [
  {
   "cell_type": "markdown",
   "id": "4626e955",
   "metadata": {},
   "source": [
    "# enVector Example with Encrypted Query"
   ]
  },
  {
   "cell_type": "markdown",
   "id": "3aae95e9",
   "metadata": {},
   "source": [
    "In this example, we will walk through the steps to use enVector with an encrypted query.\n",
    "\n",
    "If data for the query also need to be secured, we can use CC (Cipher Query - Cipher Index) search. For example, to retrieve data from an index with restricted access, clients should verify that their encrypted security identifier is contained within the encrypted list of authorized privileges.\n",
    "\n",
    "Note that query encryption is supported only by `eval_mode=rmp` during key setup. The advanced algorithm `mm` does not currently support ciphertext queries, as it's under development."
   ]
  },
  {
   "cell_type": "markdown",
   "id": "3e16ee0a",
   "metadata": {},
   "source": [
    "## Import SDK\n",
    "\n",
    "To use the enVector SDK (`es2`), you need to install it first.\n",
    "Before installing, make sure you have Python 3.12 and a virtual environment on your system.\n",
    "After installation, you can import the SDK in your Python code."
   ]
  },
  {
   "cell_type": "code",
   "execution_count": null,
   "id": "26a24fb4",
   "metadata": {},
   "outputs": [],
   "source": [
    "import es2"
   ]
  },
  {
   "cell_type": "markdown",
   "id": "aae05f72",
   "metadata": {},
   "source": [
    "## Initialize\n",
    "\n",
    "To use the enVector service, initialization is required. \n",
    "\n",
    "The following initialization step includes establishing a connection to the enVector server and configuring cryptographic settings necessary for vector search."
   ]
  },
  {
   "cell_type": "code",
   "execution_count": null,
   "id": "67bdbdd5",
   "metadata": {},
   "outputs": [],
   "source": [
    "es2.init(\n",
    "    address=\"localhost:50050\",\n",
    "    key_path=\"./keys\",\n",
    "    key_id=\"quickstart_key\",\n",
    ")"
   ]
  },
  {
   "cell_type": "markdown",
   "id": "0cb306a5",
   "metadata": {},
   "source": [
    "## Prepare Data\n",
    "\n",
    "### Prepare Plaintext Vectors\n",
    "\n",
    "Let's generate a random dataset first, which will become the secured, encrypted vector index."
   ]
  },
  {
   "cell_type": "code",
   "execution_count": null,
   "id": "b13592e9",
   "metadata": {},
   "outputs": [],
   "source": [
    "import numpy as np\n",
    "\n",
    "vecs = np.random.rand(10, 512)\n",
    "vecs = vecs / np.linalg.norm(vecs, axis=1, keepdims=True)\n",
    "metadata = [f\"Item {i+1}\" for i in range(10)]"
   ]
  },
  {
   "cell_type": "markdown",
   "id": "d5f660d6",
   "metadata": {},
   "source": [
    "## Create Index and Insert Data\n",
    "\n",
    "To use an encrypted query for search, we should configure the index to allow encrypted queries.\n",
    "The query encryption mode supports `plain` and `cipher`."
   ]
  },
  {
   "cell_type": "code",
   "execution_count": null,
   "id": "552c0218",
   "metadata": {},
   "outputs": [],
   "source": [
    "# Create index with query encryption config as cipher\n",
    "index = es2.create_index(\n",
    "    \"quickstart_index_cc\", \n",
    "    dim=512, \n",
    "    query_encryption=\"cipher\"\n",
    ")\n",
    "\n",
    "# Or the following approach is also available after index creation.\n",
    "# index.index_config.query_encryption = \"cipher\""
   ]
  },
  {
   "cell_type": "markdown",
   "id": "aa6be9fc",
   "metadata": {},
   "source": [
    "When the index is ready, you can insert data into it.\n",
    "This first encrypts the vectors using the generated encryption keys internally in `index` and inserts them into the created index."
   ]
  },
  {
   "cell_type": "code",
   "execution_count": null,
   "id": "ecbfffd4",
   "metadata": {},
   "outputs": [],
   "source": [
    "index.insert(vecs, metadata=metadata)"
   ]
  },
  {
   "cell_type": "markdown",
   "id": "60761faf",
   "metadata": {},
   "source": [
    "## Encrypted Similarity Search\n",
    "\n",
    "### Prepare query\n",
    "\n",
    "First, prepare a query for encrypted search.\n",
    "For now, let's use the first data point we generated randomly as the query."
   ]
  },
  {
   "cell_type": "code",
   "execution_count": null,
   "id": "264350bf",
   "metadata": {},
   "outputs": [],
   "source": [
    "query_vector = vecs[0]"
   ]
  },
  {
   "cell_type": "markdown",
   "id": "2b07e64e",
   "metadata": {},
   "source": [
    "### Encrypted search on the index\n",
    "\n",
    "Let's perform the encrypted similarity search with an encrypted query. \n",
    "Since we already configured the index to use encrypted queries, the plain query input will automatically be encrypted during the process.\n",
    "This process ensures secure and efficient similarity search operations, even when working with encrypted data."
   ]
  },
  {
   "cell_type": "code",
   "execution_count": null,
   "id": "d980e3fb",
   "metadata": {},
   "outputs": [],
   "source": [
    "# Encrypt query\n",
    "# index.search() includes query encryption internally, \n",
    "# but here we show the explicit encryption step.\n",
    "cipher = es2.Cipher(\"keys/quickstart_key/EncKey.bin\", dim=512)\n",
    "encrypted_query_vector = cipher.encrypt(query_vector, encode_type=\"query\")\n",
    "\n",
    "# Perform encrypted search\n",
    "result = index.search(encrypted_query_vector, top_k=2, output_fields=[\"metadata\"])[0]\n",
    "result"
   ]
  },
  {
   "cell_type": "markdown",
   "id": "c9455f87",
   "metadata": {},
   "source": [
    "### Clean Up\n",
    "\n",
    "We can delete the created index and the registered key when they are no longer needed."
   ]
  },
  {
   "cell_type": "code",
   "execution_count": null,
   "id": "41d28f08",
   "metadata": {},
   "outputs": [],
   "source": [
    "es2.drop_index(\"quickstart_index_cc\")"
   ]
  },
  {
   "cell_type": "code",
   "execution_count": null,
   "id": "a27d4df3",
   "metadata": {},
   "outputs": [],
   "source": [
    "es2.delete_key(\"quickstart_key\")"
   ]
  }
 ],
 "metadata": {
  "kernelspec": {
   "display_name": "es2-sdk",
   "language": "python",
   "name": "python3"
  },
  "language_info": {
   "codemirror_mode": {
    "name": "ipython",
    "version": 3
   },
   "file_extension": ".py",
   "mimetype": "text/x-python",
   "name": "python",
   "nbconvert_exporter": "python",
   "pygments_lexer": "ipython3",
   "version": "3.12.11"
  }
 },
 "nbformat": 4,
 "nbformat_minor": 5
}
