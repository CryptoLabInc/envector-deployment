{
 "cells": [
  {
   "cell_type": "markdown",
   "id": "bf0d716d",
   "metadata": {
    "vscode": {
     "languageId": "plaintext"
    }
   },
   "source": [
    "# enVector Quick Start\n",
    "\n",
    "This example demonstrates the complete workflow of **enVector** Python SDK, showcasing its capabilities for encrypted similarity search."
   ]
  },
  {
   "cell_type": "markdown",
   "id": "64054ef1",
   "metadata": {},
   "source": [
    "## Import SDK\n",
    "\n",
    "enVector SDK, `es2` (Encrypted Similarity Search) is a high-performance encrypted vector search engine designed to protect data privacy during similarity search. It enables clients to search over encrypted vectors without ever exposing the raw data or query.\n",
    "\n",
    "For the first time, we should install and import the SDK package to use enVector Python APIs.\n",
    "Before installing, make sure Python 3.12 in the virtual environment is installed on your system.\n",
    "After installation, you can import the SDK in your Python code.\n",
    "\n",
    "For more details, see [SDK installation](https://cryptolab.gitbook.io/envector/rU12grf1Q12UCpb0sxoh/get-started/installation/client-sdk) section in [enVector Documents](https://cryptolab.gitbook.io/envector/rU12grf1Q12UCpb0sxoh)."
   ]
  },
  {
   "cell_type": "code",
   "execution_count": null,
   "id": "87fe205c",
   "metadata": {},
   "outputs": [],
   "source": [
    "import es2"
   ]
  },
  {
   "cell_type": "markdown",
   "id": "d01387ac",
   "metadata": {},
   "source": [
    "## Vector Search\n",
    "\n",
    "### 1. Initialize\n",
    "\n",
    "To use the enVector service, initialization is required. Here, we focus on the minimal steps, including:\n",
    "\n",
    "1) establishing a connection to the enVector server with `address` and `access_token`, \n",
    "2) registering a key for enabling enVector server with `key_path` and `key_id` to perform secure operations automatically.\n",
    "\n",
    "For more details, see [Initialize](https://cryptolab.gitbook.io/envector/rU12grf1Q12UCpb0sxoh/user-guide/initialize) in [enVector Documents](https://cryptolab.gitbook.io/envector/rU12grf1Q12UCpb0sxoh)."
   ]
  },
  {
   "cell_type": "code",
   "execution_count": null,
   "id": "f7ece281",
   "metadata": {},
   "outputs": [],
   "source": [
    "es2.init(\n",
    "    address=\"localhost:50050\",\n",
    "    # access_token=\"...\", # if needed\n",
    "    key_path=\"./keys\",\n",
    "    key_id=\"quickstart_key\",\n",
    ")"
   ]
  },
  {
   "cell_type": "markdown",
   "id": "820bf64d",
   "metadata": {},
   "source": [
    "### 2. Create Index\n",
    "\n",
    "To insert data into the Index, we first need to create an index. An index is defined by its name and the dimensionality of the vectors to be stored. The dimensionality must match the size of the vectors planned to insert. For example, if the vectors have 512 dimensions, the index should be created with the specified dimension `dim=512`. This step ensures the index is properly configured to handle the client's data.\n",
    "\n",
    "For more details, see [Creation](https://cryptolab.gitbook.io/envector/rU12grf1Q12UCpb0sxoh/user-guide/encrypted-index/creation) in [enVector Documents](https://cryptolab.gitbook.io/envector/rU12grf1Q12UCpb0sxoh)."
   ]
  },
  {
   "cell_type": "code",
   "execution_count": null,
   "id": "b21b02da",
   "metadata": {},
   "outputs": [],
   "source": [
    "index = es2.create_index(\"quickstart_index\", dim=512)"
   ]
  },
  {
   "cell_type": "markdown",
   "id": "346fef6f",
   "metadata": {},
   "source": [
    "### 3. Insert Data\n",
    "\n",
    "To populate the index, we need to insert data into the created index. For this example, we will use randomly generated vectors as test data. Each vector should match the dimensionality specified during index creation. Additionally, metadata can be attached to each vector to provide the corresponding context or additional information. This step demonstrates how to prepare and insert sample vector data into the index for testing purposes.\n",
    "\n",
    "For more details, see [Insert](https://cryptolab.gitbook.io/envector/rU12grf1Q12UCpb0sxoh/user-guide/insert) in [enVector Documents](https://cryptolab.gitbook.io/envector/rU12grf1Q12UCpb0sxoh)."
   ]
  },
  {
   "cell_type": "code",
   "execution_count": null,
   "id": "e25736be",
   "metadata": {},
   "outputs": [],
   "source": [
    "import numpy as np\n",
    "\n",
    "vecs = np.random.rand(10, 512)\n",
    "vecs = vecs / np.linalg.norm(vecs, axis=1, keepdims=True)  # normalize for IP\n",
    "metadata = [f\"Item {i+1}\" for i in range(10)]\n",
    "\n",
    "index.insert(vecs, metadata)"
   ]
  },
  {
   "cell_type": "markdown",
   "id": "eff4ca30",
   "metadata": {},
   "source": [
    "### 4. Encrypted Similarity Search\n",
    "\n",
    "To perform a similarity search, we can use a query vector to find the most similar vectors in the index. The `index` object contains the decryption key, enabling the enVector server to return encrypted scores. These scores are decrypted by the client-owned keys to retrieve the top-k results along with their indices. This process ensures secure and efficient similarity search operations, even when working with encrypted data.\n",
    "\n",
    "For more details, see [Search](https://cryptolab.gitbook.io/envector/rU12grf1Q12UCpb0sxoh/user-guide/search) in [enVector Documents](https://cryptolab.gitbook.io/envector/rU12grf1Q12UCpb0sxoh)."
   ]
  },
  {
   "cell_type": "code",
   "execution_count": null,
   "id": "6ab6181c",
   "metadata": {},
   "outputs": [],
   "source": [
    "search_index = es2.Index(\"quickstart_index\")\n",
    "query = vecs[0]\n",
    "results = search_index.search(query, top_k=3, output_fields=[\"metadata\"])[0]\n",
    "print(results)"
   ]
  },
  {
   "cell_type": "markdown",
   "id": "34a66d75",
   "metadata": {},
   "source": [
    "### Clean Up\n",
    "\n",
    "We can delete the created index and the registered key when they are no longer needed."
   ]
  },
  {
   "cell_type": "code",
   "execution_count": null,
   "id": "1b295546",
   "metadata": {},
   "outputs": [],
   "source": [
    "es2.drop_index(\"quickstart_index\")"
   ]
  },
  {
   "cell_type": "code",
   "execution_count": null,
   "id": "06e28d62",
   "metadata": {},
   "outputs": [],
   "source": [
    "es2.delete_key(\"quickstart_key\")"
   ]
  }
 ],
 "metadata": {
  "kernelspec": {
   "display_name": "es2-sdk",
   "language": "python",
   "name": "python3"
  },
  "language_info": {
   "codemirror_mode": {
    "name": "ipython",
    "version": 3
   },
   "file_extension": ".py",
   "mimetype": "text/x-python",
   "name": "python",
   "nbconvert_exporter": "python",
   "pygments_lexer": "ipython3",
   "version": "3.12.11"
  }
 },
 "nbformat": 4,
 "nbformat_minor": 5
}
