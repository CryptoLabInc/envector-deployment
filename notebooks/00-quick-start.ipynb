{
 "cells": [
  {
   "cell_type": "markdown",
   "id": "bf0d716d",
   "metadata": {
    "vscode": {
     "languageId": "plaintext"
    }
   },
   "source": [
    "# ES2 Example\n",
    "\n",
    "This example demonstrates the complete workflow of the ES2 Self-Hosted Python SDK, showcasing its capabilities for encrypted similarity search and vector database operations."
   ]
  },
  {
   "cell_type": "markdown",
   "id": "64054ef1",
   "metadata": {},
   "source": [
    "## Import ES2\n",
    "\n",
    "At very first time, you should install and import `es2` package to use python APIs. Before installing, make sure you have conda installed on your system. For more details, see `SDK installation` section in `Get Started`."
   ]
  },
  {
   "cell_type": "code",
   "execution_count": null,
   "id": "cac61ef3",
   "metadata": {},
   "outputs": [],
   "source": [
    "# !pip install es2"
   ]
  },
  {
   "cell_type": "code",
   "execution_count": null,
   "id": "b8be6a0d",
   "metadata": {},
   "outputs": [],
   "source": [
    "import es2"
   ]
  },
  {
   "cell_type": "markdown",
   "id": "d01387ac",
   "metadata": {},
   "source": [
    "## Vector Search\n",
    "\n",
    "### 1. Initialize ES2\n",
    "\n",
    "To use the ES2 service, initialization is required. Initialization includes establishing a connection to the ES2 server and configuring settings necessary for vector search. You can set the path and ID of the key for data encryption, presets for operations, query encryption, database encryption, and index type."
   ]
  },
  {
   "cell_type": "code",
   "execution_count": null,
   "id": "7792c528",
   "metadata": {},
   "outputs": [],
   "source": [
    "es2.init(\n",
    "    host=\"localhost\",\n",
    "    port=50050,\n",
    "    key_path=\"./keys\",\n",
    "    key_id=\"quickstart_key\",\n",
    ")"
   ]
  },
  {
   "cell_type": "markdown",
   "id": "820bf64d",
   "metadata": {},
   "source": [
    "### 2. Create Index\n",
    "\n",
    "To insert data into the database, you first need to create an index. An index is defined by its name and the dimensionality of the vectors it will store. The dimensionality must match the size of the vectors you plan to insert. For example, if your vectors have 512 dimensions, the index should be created with `dim=512`. This step ensures the database is properly configured to handle your data."
   ]
  },
  {
   "cell_type": "code",
   "execution_count": null,
   "id": "434caf4e",
   "metadata": {},
   "outputs": [],
   "source": [
    "index = es2.create_index(\"quickstart_index\", dim=512)"
   ]
  },
  {
   "cell_type": "markdown",
   "id": "346fef6f",
   "metadata": {},
   "source": [
    "### 3. Insert Data\n",
    "\n",
    "To populate the database, you need to insert data into the created index. For this example, we will use randomly generated vectors as test data. Each vector should match the dimensionality specified during index creation. Additionally, metadata can be attached to each vector to provide context or additional information. This step demonstrates how to prepare and insert data into the database for testing purposes."
   ]
  },
  {
   "cell_type": "code",
   "execution_count": null,
   "id": "8cd7a0bd",
   "metadata": {},
   "outputs": [],
   "source": [
    "import numpy as np\n",
    "\n",
    "# Define a function to generate random vectors\n",
    "def generate_random_vector(dim):\n",
    "    if dim <= 16 or dim > 4096:\n",
    "        raise ValueError(f\"Invalid dimension: {dim}.\")\n",
    "    \n",
    "    vec = np.random.uniform(-1.0, 1.0, dim)\n",
    "    norm = np.linalg.norm(vec)\n",
    "\n",
    "    if norm > 0:\n",
    "        vec = vec / norm\n",
    "\n",
    "    return vec\n",
    "\n",
    "# Prepare Data\n",
    "num_data = 10\n",
    "\n",
    "db_vectors = [\n",
    "    generate_random_vector(512) for _ in range(num_data)\n",
    "]\n",
    "db_metadata = [f\"data_{i+1}\" for i in range(num_data)]\n",
    "\n",
    "# Insert Data\n",
    "index.insert(db_vectors, metadata=db_metadata)"
   ]
  },
  {
   "cell_type": "markdown",
   "id": "eff4ca30",
   "metadata": {},
   "source": [
    "### 4. Encrypted Similarity Search\n",
    "\n",
    "To perform a similarity search, you can use a query vector to find the most similar vectors in the database. The `index` object contains the decryption key, enabling the ES2 server to return encrypted scores. These scores are decrypted by the client to retrieve the top-k results along with their indices. This process ensures secure and efficient similarity search operations, even when working with encrypted data."
   ]
  },
  {
   "cell_type": "code",
   "execution_count": null,
   "id": "ace2bd89",
   "metadata": {},
   "outputs": [],
   "source": [
    "query = db_vectors[1]\n",
    "top_k = 2\n",
    "\n",
    "result = index.search(query, top_k=top_k, output_fields=[\"metadata\"])\n",
    "result"
   ]
  },
  {
   "cell_type": "markdown",
   "id": "34a66d75",
   "metadata": {},
   "source": [
    "### Clean Up"
   ]
  },
  {
   "cell_type": "code",
   "execution_count": null,
   "id": "4a85e846",
   "metadata": {},
   "outputs": [],
   "source": [
    "es2.drop_index(\"quickstart_index\")"
   ]
  },
  {
   "cell_type": "code",
   "execution_count": null,
   "id": "9b3b1c2c",
   "metadata": {},
   "outputs": [],
   "source": [
    "es2.release_key(\"quickstart_key\")"
   ]
  }
 ],
 "metadata": {
  "kernelspec": {
   "display_name": "base",
   "language": "python",
   "name": "python3"
  },
  "language_info": {
   "codemirror_mode": {
    "name": "ipython",
    "version": 3
   },
   "file_extension": ".py",
   "mimetype": "text/x-python",
   "name": "python",
   "nbconvert_exporter": "python",
   "pygments_lexer": "ipython3",
   "version": "3.12.10"
  }
 },
 "nbformat": 4,
 "nbformat_minor": 5
}
