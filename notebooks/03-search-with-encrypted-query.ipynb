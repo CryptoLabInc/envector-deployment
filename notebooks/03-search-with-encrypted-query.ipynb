{
 "cells": [
  {
   "cell_type": "markdown",
   "id": "4626e955",
   "metadata": {},
   "source": [
    "# Search with Encrypted Query"
   ]
  },
  {
   "cell_type": "markdown",
   "id": "3aae95e9",
   "metadata": {},
   "source": [
    "In this tutorial, we will walk through the steps to use the ES2 with encrypted query.\n",
    "\n",
    "If data for query are also needed to be secured, we can use CC (Cipher Query - Cipher DB) search.\n",
    "\n",
    "For example:\n",
    "- To retrieve data from a database with restricted access\n",
    "    + Users should verify that their encrypted security identifier is contained within the encrypted list of authorized privileges"
   ]
  },
  {
   "cell_type": "markdown",
   "id": "3e16ee0a",
   "metadata": {},
   "source": [
    "## Import ES2\n",
    "\n",
    "To use the ES2 SDK, you need to install it first.\n",
    "\n",
    "Before installing, make sure you have conda installed on your system.\n",
    "\n",
    "For more details, see `SDK installation` section in `Get Started`.\n",
    "\n",
    "After installation, you can import the ES2 SDK in your Python code."
   ]
  },
  {
   "cell_type": "code",
   "execution_count": null,
   "id": "91e01311",
   "metadata": {},
   "outputs": [],
   "source": [
    "# !pip install es2\n",
    "!pip install --force-reinstall sdk/python/dist/es2-1.0.2-cp312-cp312-linux_x86_64.whl"
   ]
  },
  {
   "cell_type": "code",
   "execution_count": null,
   "id": "346ddd60",
   "metadata": {},
   "outputs": [],
   "source": [
    "import es2"
   ]
  },
  {
   "cell_type": "markdown",
   "id": "aae05f72",
   "metadata": {},
   "source": [
    "## Initialize ES2\n",
    "\n",
    "To use the ES2 service, initialization is required. \n",
    "\n",
    "Initialization step includes\n",
    "1) Establishing a connection to the `ES2` server\n",
    "2) Configuring Crypto settings necessary for vector search\n",
    "3) Registering evaluation keys for enabling `ES2` server to perform secure operations.\n",
    "\n",
    "You can set the path and ID of the key for data encryption, presets for operations, query encryption, database encryption, and index type."
   ]
  },
  {
   "cell_type": "code",
   "execution_count": null,
   "id": "fe1694b5",
   "metadata": {},
   "outputs": [],
   "source": [
    "KEYPATH = \"./keys\"\n",
    "KEYID = \"cc_tutorial_key\"\n",
    "DIM=512"
   ]
  },
  {
   "cell_type": "code",
   "execution_count": null,
   "id": "f6a29819",
   "metadata": {},
   "outputs": [],
   "source": [
    "es2.init(\n",
    "    host=\"localhost\",\n",
    "    port=40050,\n",
    "    key_path=KEYPATH,\n",
    "    key_id=KEYID,\n",
    ")"
   ]
  },
  {
   "cell_type": "markdown",
   "id": "0cb306a5",
   "metadata": {},
   "source": [
    "## Prepare Data\n",
    "\n",
    "### Prepare Plaintext Vectors\n",
    "\n",
    "Let's generate random data set first, which will be secured, encrypted DB"
   ]
  },
  {
   "cell_type": "code",
   "execution_count": null,
   "id": "d27a559d",
   "metadata": {},
   "outputs": [],
   "source": [
    "import numpy as np\n",
    "\n",
    "# Define a function to generate random vectors\n",
    "def generate_random_vector(dim):\n",
    "    if dim <= 16 or dim > 4096:\n",
    "        raise ValueError(f\"Invalid dimension: {dim}.\")\n",
    "    \n",
    "    vec = np.random.uniform(-1.0, 1.0, dim)\n",
    "    norm = np.linalg.norm(vec)\n",
    "\n",
    "    if norm > 0:\n",
    "        vec = vec / norm\n",
    "\n",
    "    return vec\n",
    "\n",
    "# Prepare Data\n",
    "num_data = 10\n",
    "\n",
    "db_vectors = [\n",
    "    generate_random_vector(512) for _ in range(num_data)\n",
    "]\n",
    "db_metadata = [f\"data_{i+1}\" for i in range(num_data)]"
   ]
  },
  {
   "cell_type": "markdown",
   "id": "d5f660d6",
   "metadata": {},
   "source": [
    "## Create Index and Insert Data\n",
    "\n",
    "In previous tutorial, we know that for encrypted similarity search, we first prepare a vector index, called `Index`.\n",
    "\n",
    "To use encrypted query for search, we should set configuration of index as available for encrypted query.\n"
   ]
  },
  {
   "cell_type": "code",
   "execution_count": null,
   "id": "552c0218",
   "metadata": {},
   "outputs": [],
   "source": [
    "index = es2.create_index(\"cc_search_index\", dim=DIM, query_encryption=\"cipher\") # Create index with query encryption config as cipher"
   ]
  },
  {
   "cell_type": "markdown",
   "id": "ab04f552",
   "metadata": {},
   "source": [
    "Below is also available.\n",
    "```python\n",
    "# First, create index normally\n",
    "index = es2.create_index(\"cc_search_index\", dim=DIM)\n",
    "# And then, set configuration for query encryption\n",
    "index.index_config.query_encryption = \"cipher\"\n",
    "```"
   ]
  },
  {
   "cell_type": "markdown",
   "id": "aa6be9fc",
   "metadata": {},
   "source": [
    "If the index is ready, you can insert data into it.\n",
    "\n",
    "As we know, this first **encrypts the vectors** using the generated encryption keys and **inserts** them into the index in the created ES2."
   ]
  },
  {
   "cell_type": "code",
   "execution_count": null,
   "id": "e7e78233",
   "metadata": {},
   "outputs": [],
   "source": [
    "index.insert(db_vectors, metadata=db_metadata)"
   ]
  },
  {
   "cell_type": "markdown",
   "id": "60761faf",
   "metadata": {},
   "source": [
    "## Encrypted Similarity Search\n",
    "\n",
    "### Prepare query\n",
    "\n",
    "First, prepare query for encrypted search.\n",
    "\n",
    "For now, let's use first data we generated randomly as query."
   ]
  },
  {
   "cell_type": "code",
   "execution_count": null,
   "id": "43de7c53",
   "metadata": {},
   "outputs": [],
   "source": [
    "query_vector = db_vectors[0]"
   ]
  },
  {
   "cell_type": "markdown",
   "id": "2b07e64e",
   "metadata": {},
   "source": [
    "### Encrypted search on the index\n",
    "\n",
    "Let's perform search with encrypted query for encrypted RAG. \n",
    "\n",
    "As we already set configuration of index to use encrypted query, plain query input will automatically be encrypted in process.\n",
    "\n",
    "This process ensures secure and efficient similarity search operations, even when working with encrypted data."
   ]
  },
  {
   "cell_type": "code",
   "execution_count": null,
   "id": "c3a5e6ea",
   "metadata": {},
   "outputs": [],
   "source": [
    "result = index.search(query_vector, top_k=2, output_fields=[\"metadata\"])[0]\n",
    "result"
   ]
  },
  {
   "cell_type": "markdown",
   "id": "edd2e64c",
   "metadata": {},
   "source": [
    "Of course, we can encrypt query with our own hands.\n",
    "\n",
    "In this case, we can create new `Cipher` object or use that index already have.\n",
    "\n",
    "For now, let's use one that index object have.\n",
    "\n",
    "When we encrypt query ourselves, we should notice that `encode_type` value is `query` (Because default setting is for DB items)"
   ]
  },
  {
   "cell_type": "code",
   "execution_count": null,
   "id": "e3367af2",
   "metadata": {},
   "outputs": [],
   "source": [
    "cipher = es2.Cipher(f\"{KEYPATH}/{KEYID}/EncKey.bin\", dim=DIM)\n",
    "encrypted_query_vector = cipher.encrypt(query_vector, encode_type=\"query\")\n",
    "result = index.search(encrypted_query_vector, top_k=2, output_fields=[\"metadata\"])[0]\n",
    "result"
   ]
  },
  {
   "cell_type": "markdown",
   "id": "c9455f87",
   "metadata": {},
   "source": [
    "### Clean Up"
   ]
  },
  {
   "cell_type": "code",
   "execution_count": null,
   "id": "684a8a17",
   "metadata": {},
   "outputs": [],
   "source": [
    "es2.drop_index(\"cc_search_index\")"
   ]
  },
  {
   "cell_type": "code",
   "execution_count": null,
   "id": "8807c5a1",
   "metadata": {},
   "outputs": [],
   "source": [
    "es2.release_key(\"cc_tutorial_key\")"
   ]
  }
 ],
 "metadata": {
  "kernelspec": {
   "display_name": "3.12.11",
   "language": "python",
   "name": "python3"
  },
  "language_info": {
   "codemirror_mode": {
    "name": "ipython",
    "version": 3
   },
   "file_extension": ".py",
   "mimetype": "text/x-python",
   "name": "python",
   "nbconvert_exporter": "python",
   "pygments_lexer": "ipython3",
   "version": "3.12.11"
  }
 },
 "nbformat": 4,
 "nbformat_minor": 5
}
